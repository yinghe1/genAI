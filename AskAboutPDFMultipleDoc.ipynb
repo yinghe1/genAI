{
 "cells": [
  {
   "cell_type": "code",
   "execution_count": 18,
   "id": "bb3670fa",
   "metadata": {},
   "outputs": [],
   "source": [
    "from langchain_ollama import OllamaLLM\n",
    "#from langchain_ollama import OllamaEmbeddings\n",
    "from langchain_community.embeddings import OllamaEmbeddings\n",
    "from langchain.prompts import PromptTemplate\n",
    "from langchain_community.vectorstores import DocArrayInMemorySearch\n",
    "from langchain_core.output_parsers import StrOutputParser\n",
    "from langchain_core.runnables import RunnablePassthrough\n",
    "from sys import argv\n",
    "import os\n",
    "from langchain.document_loaders import PyPDFLoader\n",
    "from langchain.text_splitter import CharacterTextSplitter\n",
    "from langchain.embeddings import OpenAIEmbeddings\n",
    "from langchain.chains.question_answering import load_qa_chain\n"
   ]
  },
  {
   "cell_type": "code",
   "execution_count": 19,
   "id": "0df6a3d7",
   "metadata": {},
   "outputs": [],
   "source": [
    "# 1. Create the model\n",
    "llm = OllamaLLM(model='llama3.2')\n",
    "embeddings = OllamaEmbeddings(model='znbang/bge:small-en-v1.5-f32')\n"
   ]
  },
  {
   "cell_type": "code",
   "execution_count": 20,
   "id": "54ace574",
   "metadata": {},
   "outputs": [],
   "source": [
    "# 2. Load the PDF file and create a retriever to be used for providing context\n",
    "pdf_folder_path = \"<replace This with your own file directory which contains pdf>\"\n",
    "documents = []\n",
    "for file in os.listdir(pdf_folder_path):\n",
    "    if file.endswith('.pdf'):\n",
    "        pdf_path = os.path.join(pdf_folder_path, file)\n",
    "        loader = PyPDFLoader(pdf_path)\n",
    "        documents.extend(loader.load())\n",
    "text_splitter = CharacterTextSplitter(chunk_size=1000, chunk_overlap=10)\n",
    "#print(documents)\n",
    "pages = text_splitter.split_documents(documents)\n",
    "store = DocArrayInMemorySearch.from_documents(pages, embedding=embeddings)\n",
    "retriever = store.as_retriever()\n"
   ]
  },
  {
   "cell_type": "code",
   "execution_count": 21,
   "id": "9819946e",
   "metadata": {},
   "outputs": [],
   "source": [
    "# 3. Create the prompt template\n",
    "template = \"\"\"\n",
    "Answer the question based only on the context provided.\n",
    "\n",
    "Context: {context}\n",
    "\n",
    "Question: {question}\n",
    "\"\"\"\n",
    "\n",
    "prompt = PromptTemplate.from_template(template)\n",
    "\n",
    "def format_docs(docs):\n",
    "  return \"\\n\\n\".join(doc.page_content for doc in docs)\n",
    "\n",
    "# 4. Build the chain of operations\n",
    "chain = (\n",
    "  {\n",
    "    'context': retriever | format_docs,\n",
    "    'question': RunnablePassthrough(),\n",
    "  }\n",
    "  | prompt\n",
    "  | llm\n",
    "  | StrOutputParser()\n",
    ")\n"
   ]
  },
  {
   "cell_type": "code",
   "execution_count": 22,
   "id": "17cabbed",
   "metadata": {},
   "outputs": [],
   "source": [
    "resp = chain.invoke({'question': \"can you list the total and project balance of xxx.pdf and who did the quote and date\"})"
   ]
  },
  {
   "cell_type": "code",
   "execution_count": null,
   "id": "b727d386",
   "metadata": {},
   "outputs": [],
   "source": [
    "print(resp)"
   ]
  },
  {
   "cell_type": "code",
   "execution_count": 24,
   "id": "95a55fdf",
   "metadata": {},
   "outputs": [],
   "source": [
    "resp = chain.invoke({'question': \"can you list the final price details of yyy.pdf and who did the quote and date\"})"
   ]
  },
  {
   "cell_type": "code",
   "execution_count": null,
   "id": "dd522f7b",
   "metadata": {},
   "outputs": [],
   "source": [
    "print(resp)"
   ]
  }
 ],
 "metadata": {
  "kernelspec": {
   "display_name": "venv",
   "language": "python",
   "name": "venv"
  },
  "language_info": {
   "codemirror_mode": {
    "name": "ipython",
    "version": 3
   },
   "file_extension": ".py",
   "mimetype": "text/x-python",
   "name": "python",
   "nbconvert_exporter": "python",
   "pygments_lexer": "ipython3",
   "version": "3.10.9"
  }
 },
 "nbformat": 4,
 "nbformat_minor": 5
}
