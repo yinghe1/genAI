{
 "cells": [
  {
   "cell_type": "code",
   "execution_count": 191,
   "id": "bb3670fa",
   "metadata": {},
   "outputs": [],
   "source": [
    "from langchain_ollama import OllamaLLM\n",
    "from langchain.prompts import PromptTemplate\n",
    "from langchain_core.output_parsers import StrOutputParser\n",
    "from langchain_core.runnables import RunnablePassthrough\n"
   ]
  },
  {
   "cell_type": "code",
   "execution_count": 204,
   "id": "54ace574",
   "metadata": {},
   "outputs": [],
   "source": [
    "# This notebook does experiment, first intention is to read news, \n",
    "# then use llm to filter out the unwanted content and display the filtered contents.  \n",
    "# second intention is to test out json output using https://python.langchain.com/docs/concepts/structured_outputs/\n",
    "#    Get news feed from free api like https://newsapi.org and developer api-key is free for study purpose see their documentation to see the json format. \n",
    "# Take a look at the output using commandline tool curl. using tee command so it can show both at standard output and write to a file at the same time \n",
    "#  ```\n",
    "# curl -s \"https://newsapi.org/v2/top-headlines?country=us&apiKey=<useYourOwnAPIKey> 2>&1| tee 02022025news.json\n",
    "# ```\n",
    "# 1. Read the news from a local file as source data, this can be replaced with a real API call to get news as show above, TODO to use the api here.\n",
    "import json\n",
    "\n",
    "def read_json_file(file_path):\n",
    "    with open(file_path, 'r') as file:\n",
    "        data = json.load(file)\n",
    "    return json.dumps(data, indent=4)\n",
    "\n",
    "file_path = './data/news/02022025news.json'\n",
    "input_json_articles = read_json_file(file_path)\n",
    "#print(input_json_articles)\n"
   ]
  },
  {
   "cell_type": "code",
   "execution_count": 205,
   "id": "dfbf1d83-d08a-4ae2-971c-58759b12680d",
   "metadata": {},
   "outputs": [],
   "source": [
    "#Define json schema\n",
    "outputJsonSchema = {\n",
    "    \"$schema\": \"http://json-schema.org/draft-07/schema#\",\n",
    "    \"type\": \"object\",\n",
    "    \"properties\": {\n",
    "        \"articles\": {\n",
    "            \"type\": \"array\",\n",
    "            \"items\": {\n",
    "                \"type\": \"object\",\n",
    "                \"properties\": {\n",
    "                    \"title\": {\n",
    "                        \"type\": \"string\"\n",
    "                    },\n",
    "                    \"url\": {\n",
    "                        \"type\": \"string\"\n",
    "                    },\n",
    "                    \"urlToImage\": {\n",
    "                        \"type\": \"string\"\n",
    "                    },\n",
    "                    \"publishedAt\": {\n",
    "                        \"type\": \"string\"\n",
    "                    }\n",
    "                },\n",
    "                \"required\": [\"title\", \"url\", \"urlToImage\", \"publishedAt\"]\n",
    "            }\n",
    "        }\n",
    "    },\n",
    "    \"required\": [\"articles\"]\n",
    "}\n",
    "\n"
   ]
  },
  {
   "cell_type": "code",
   "execution_count": 206,
   "id": "83afbe63-2077-4fec-9d40-ee560d96ec28",
   "metadata": {},
   "outputs": [],
   "source": [
    "from langchain_ollama import ChatOllama\n",
    "\n",
    "llm = ChatOllama(\n",
    "    model=\"llama3.2:latest\",\n",
    "    temperature=0,\n",
    "    format=outputJsonSchema\n",
    ")\n"
   ]
  },
  {
   "cell_type": "code",
   "execution_count": 207,
   "id": "9819946e",
   "metadata": {},
   "outputs": [],
   "source": [
    "# 3. Create the prompt template\n",
    "\n",
    "from langchain.prompts import PromptTemplate\n",
    "\n",
    "template = \"\"\"\n",
    "Answer the question based only on the context provided.\n",
    "\n",
    "Context: {context}\n",
    "\n",
    "Question: {question}\n",
    "\"\"\"\n",
    "prompt = PromptTemplate.from_template(template)\n",
    "# 4. Build the chain of operations\n",
    "chain = prompt | llm|StrOutputParser()\n"
   ]
  },
  {
   "cell_type": "code",
   "execution_count": 208,
   "id": "17cabbed",
   "metadata": {},
   "outputs": [],
   "source": [
    "question=\"can you print out all the articles in the context except that the content field contains: natural disaster like earthquick, wildfile, accident like plane crash, train crash, crime, and war-related topics, and celebrity news?\""
   ]
  },
  {
   "cell_type": "code",
   "execution_count": 198,
   "id": "72988ebd-0b91-4333-895e-df90279aa09e",
   "metadata": {},
   "outputs": [],
   "source": [
    "resp = chain.invoke(\n",
    "    {\n",
    "        \"context\": input_json_articles,\n",
    "        \"question\": question,\n",
    "    }\n",
    ")"
   ]
  },
  {
   "cell_type": "code",
   "execution_count": 209,
   "id": "b727d386",
   "metadata": {},
   "outputs": [
    {
     "name": "stdout",
     "output_type": "stream",
     "text": [
      "{\"articles\": [{\"title\": \"Tech stocks have worst week in months after 'nobody saw DeepSeek coming' - MarketWatch\", \"url\": \"https://www.marketwatch.com/story/tech-stocks-see-worst-week-in-months-after-nobody-saw-deepseek-coming-amid-ai-mania-4de0101c\", \"urlToImage\": \"https://images.mktw.net/im-48393816/social\", \"publishedAt\": \"2025-02-01T01:12:00Z\"}, {\"title\": \"Heat\\u2019s Terry Rozier declines to discuss federal gambling probe - New York Post \", \"url\": \"https://nypost.com/2025/01/31/betting/terry-rozier-declines-to-talk-gambling-probe/\", \"urlToImage\": \"https://nypost.com/wp-content/uploads/sites/2/2025/01/2194241155.jpg?quality=75&strip=all&w=1024\", \"publishedAt\": \"2025-02-01T00:58:00Z\"}, {\"title\": \"College basketball picks, schedule: Predictions for Tennessee vs. Florida and more Top 25 games for Saturday - CBS Sports\", \"url\": \"https://www.cbssports.com/college-basketball/news/college-basketball-picks-schedule-predictions-for-tennessee-vs-florida-and-more-top-25-games-for-saturday/\", \"urlToImage\": \"https://sportshub.cbsistatic.com/i/r/2025/02/01/951a4044-8dcf-4cc9-850e-b4ddc725bc76/thumbnail/1200x675/9cd0f9ff3905b400836a7f87514dac57/usatsi-25185159-1.jpg\", \"publishedAt\": \"2025-02-01T00:28:00Z\"}]}\n"
     ]
    }
   ],
   "source": [
    "print(resp)"
   ]
  },
  {
   "cell_type": "code",
   "execution_count": 210,
   "id": "d95c6161-f52d-4d85-b756-3b0cc25fe885",
   "metadata": {},
   "outputs": [],
   "source": [
    "# parse the output to html so we can display in our notebook to see it\n",
    "def parse_news(json_string):\n",
    "    data = json.loads(json_string)\n",
    "    articles = data.get('articles', [])\n",
    "    html_output = \"<ul>\"\n",
    "    for article in articles:\n",
    "        title = article.get('title')\n",
    "        url = article.get('url')\n",
    "        urlToImage = article.get('urlToImage')\n",
    "        publishedAt = article.get('publishedAt')\n",
    "        html_output += f\"<li><h2>{title}</h2>\"\n",
    "        html_output += f\"<p><a href='{url}'>{url}</a></p>\"\n",
    "        image = f\"<img width='250' height='250' src='{urlToImage}' alt='Image for {title}' />\"\n",
    "        html_output += image\n",
    "        html_output += f\"<p>Published At: {publishedAt}</p></li>\"\n",
    "    html_output += \"</ul>\"\n",
    "    return html_output\n",
    "output_html=parse_news(resp)\n",
    "#print(output_html)"
   ]
  },
  {
   "cell_type": "code",
   "execution_count": 201,
   "id": "f361b193-1be7-40bb-9e75-9f8ecbde087e",
   "metadata": {},
   "outputs": [
    {
     "data": {
      "text/html": [
       "<ul><li><h2>Tech stocks have worst week in months after 'nobody saw DeepSeek coming' - MarketWatch</h2><p><a href='https://www.marketwatch.com/story/tech-stocks-see-worst-week-in-months-after-nobody-saw-deepseek-coming-amid-ai-mania-4de0101c'>https://www.marketwatch.com/story/tech-stocks-see-worst-week-in-months-after-nobody-saw-deepseek-coming-amid-ai-mania-4de0101c</a></p><img width='250' height='250' src='https://images.mktw.net/im-48393816/social' alt='Image for Tech stocks have worst week in months after 'nobody saw DeepSeek coming' - MarketWatch' /><p>Published At: 2025-02-01T01:12:00Z</p></li><li><h2>Heat’s Terry Rozier declines to discuss federal gambling probe - New York Post </h2><p><a href='https://nypost.com/2025/01/31/betting/terry-rozier-declines-to-talk-gambling-probe/'>https://nypost.com/2025/01/31/betting/terry-rozier-declines-to-talk-gambling-probe/</a></p><img width='250' height='250' src='https://nypost.com/wp-content/uploads/sites/2/2025/01/2194241155.jpg?quality=75&strip=all&w=1024' alt='Image for Heat’s Terry Rozier declines to discuss federal gambling probe - New York Post ' /><p>Published At: 2025-02-01T00:58:00Z</p></li><li><h2>College basketball picks, schedule: Predictions for Tennessee vs. Florida and more Top 25 games for Saturday - CBS Sports</h2><p><a href='https://www.cbssports.com/college-basketball/news/college-basketball-picks-schedule-predictions-for-tennessee-vs-florida-and-more-top-25-games-for-saturday/'>https://www.cbssports.com/college-basketball/news/college-basketball-picks-schedule-predictions-for-tennessee-vs-florida-and-more-top-25-games-for-saturday/</a></p><img width='250' height='250' src='https://sportshub.cbsistatic.com/i/r/2025/02/01/951a4044-8dcf-4cc9-850e-b4ddc725bc76/thumbnail/1200x675/9cd0f9ff3905b400836a7f87514dac57/usatsi-25185159-1.jpg' alt='Image for College basketball picks, schedule: Predictions for Tennessee vs. Florida and more Top 25 games for Saturday - CBS Sports' /><p>Published At: 2025-02-01T00:28:00Z</p></li></ul>"
      ],
      "text/plain": [
       "<IPython.core.display.HTML object>"
      ]
     },
     "execution_count": 201,
     "metadata": {},
     "output_type": "execute_result"
    }
   ],
   "source": [
    "from IPython.core.display import HTML\n",
    "HTML(output_html)"
   ]
  },
  {
   "cell_type": "code",
   "execution_count": null,
   "id": "ca063a4a-ded2-4b03-9f40-50c39f71b91d",
   "metadata": {},
   "outputs": [],
   "source": []
  }
 ],
 "metadata": {
  "kernelspec": {
   "display_name": "yingenv",
   "language": "python",
   "name": "yingenv"
  },
  "language_info": {
   "codemirror_mode": {
    "name": "ipython",
    "version": 3
   },
   "file_extension": ".py",
   "mimetype": "text/x-python",
   "name": "python",
   "nbconvert_exporter": "python",
   "pygments_lexer": "ipython3",
   "version": "3.13.1"
  }
 },
 "nbformat": 4,
 "nbformat_minor": 5
}
